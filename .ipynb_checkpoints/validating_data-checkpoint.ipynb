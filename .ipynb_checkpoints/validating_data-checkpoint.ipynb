{
 "cells": [
  {
   "cell_type": "code",
   "execution_count": 1,
   "metadata": {},
   "outputs": [
    {
     "name": "stdout",
     "output_type": "stream",
     "text": [
      "3.6.5 |Anaconda, Inc.| (default, Mar 29 2018, 13:14:23) \n",
      "[GCC 4.2.1 Compatible Clang 4.0.1 (tags/RELEASE_401/final)]\n"
     ]
    }
   ],
   "source": [
    "import sys\n",
    "print(sys.version)"
   ]
  },
  {
   "cell_type": "code",
   "execution_count": 2,
   "metadata": {},
   "outputs": [
    {
     "ename": "ModuleNotFoundError",
     "evalue": "No module named 'pyked'",
     "output_type": "error",
     "traceback": [
      "\u001b[0;31m---------------------------------------------------------------------------\u001b[0m",
      "\u001b[0;31mModuleNotFoundError\u001b[0m                       Traceback (most recent call last)",
      "\u001b[0;32m<ipython-input-2-bd2e9e265562>\u001b[0m in \u001b[0;36m<module>\u001b[0;34m()\u001b[0m\n\u001b[1;32m      1\u001b[0m \u001b[0;32mimport\u001b[0m \u001b[0mos\u001b[0m\u001b[0;34m\u001b[0m\u001b[0m\n\u001b[1;32m      2\u001b[0m \u001b[0;32mimport\u001b[0m \u001b[0myaml\u001b[0m\u001b[0;34m\u001b[0m\u001b[0m\n\u001b[0;32m----> 3\u001b[0;31m \u001b[0;32mimport\u001b[0m \u001b[0mpyked\u001b[0m\u001b[0;34m\u001b[0m\u001b[0m\n\u001b[0m",
      "\u001b[0;31mModuleNotFoundError\u001b[0m: No module named 'pyked'"
     ]
    }
   ],
   "source": [
    "import os\n",
    "import yaml\n",
    "import pyked"
   ]
  },
  {
   "cell_type": "code",
   "execution_count": null,
   "metadata": {},
   "outputs": [],
   "source": [
    "for p in os.listdir(\".\"):\n",
    "    if (not os.path.isdir(p)) or p.startswith(\".\"):\n",
    "        continue\n",
    "    \n",
    "    print(\"For {}\".format(p))\n",
    "    for f in os.walk(p):\n",
    "        #print(q)\n",
    "        if len(f[-1]) > 0:\n",
    "            for fi in f[-1]:\n",
    "                file_dir = os.path.join(f[0], fi) \n",
    "                if not file_dir.endswith(\".yaml\"):\n",
    "                    continue\n",
    "                try:\n",
    "                    pyked.ChemKED(yaml_file=file_dir)\n",
    "                    print(\"😊 Passed validation for:\\t {}\".format(file_dir))\n",
    "\n",
    "                except: \n",
    "                    print(\"❌ Failed validation for:\\t {}\".format(file_dir))\n",
    "                    print(\"\\tResulted in the following error: {}\".format(sys.exc_info()[1]))\n",
    "                    \n",
    "    print()"
   ]
  },
  {
   "cell_type": "code",
   "execution_count": null,
   "metadata": {},
   "outputs": [],
   "source": []
  }
 ],
 "metadata": {
  "kernelspec": {
   "display_name": "Python (pyteck)",
   "language": "python",
   "name": "pyteck"
  },
  "language_info": {
   "codemirror_mode": {
    "name": "ipython",
    "version": 3
   },
   "file_extension": ".py",
   "mimetype": "text/x-python",
   "name": "python",
   "nbconvert_exporter": "python",
   "pygments_lexer": "ipython3",
   "version": "3.6.5"
  }
 },
 "nbformat": 4,
 "nbformat_minor": 2
}
